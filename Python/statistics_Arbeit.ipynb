{
 "cells": [
  {
   "cell_type": "code",
   "execution_count": 3,
   "metadata": {
    "scrolled": true
   },
   "outputs": [
    {
     "name": "stdout",
     "output_type": "stream",
     "text": [
      "Populating the interactive namespace from numpy and matplotlib\n"
     ]
    }
   ],
   "source": [
    "%pylab inline\n",
    "import pandas as pd"
   ]
  },
  {
   "cell_type": "markdown",
   "metadata": {},
   "source": [
    "# Normalizing the Measurements"
   ]
  },
  {
   "cell_type": "code",
   "execution_count": 4,
   "metadata": {},
   "outputs": [
    {
     "data": {
      "text/plain": [
       "array([0.        , 3.2983096 , 4.18556155, 4.63797979, 4.91361299,\n",
       "       5.10090272, 5.23914509, 5.34912942, 5.44354208, 5.53112866,\n",
       "       5.61865333, 5.71184415, 5.81595176, 5.93603319, 6.07715188,\n",
       "       6.24446713])"
      ]
     },
     "execution_count": 4,
     "metadata": {},
     "output_type": "execute_result"
    }
   ],
   "source": [
    "#50HZ\n",
    "\n",
    "lti_gains = array([  4.99423056, -25.14217356, -25.37120587, -26.81957103,\n",
    "       -28.91744544, -31.42604008, -34.22292816, -37.23725289,\n",
    "       -40.42451041, -43.75503924, -47.20815086, -50.76888131,\n",
    "       -54.42607669, -58.17120686, -61.99760013, -65.89993273])\n",
    "\n",
    "werner_gains = array([  4.98562439, -28.44908933, -29.56537359, -31.46615699,\n",
    "       -33.8396646 , -36.53554897, -39.47067942, -42.59498848,\n",
    "       -45.87665866, -49.29477407, -52.83541036, -56.48933163,\n",
    "       -60.25063462, -64.11584622, -68.08335818, -72.15300603])\n",
    "\n",
    "lti_gains = lti_gains - lti_gains[0]\n",
    "werner_gains = werner_gains - werner_gains[0]\n",
    "\n",
    "\n",
    "diff_gains50 = lti_gains - werner_gains\n",
    "\n",
    "diff_gains50"
   ]
  },
  {
   "cell_type": "code",
   "execution_count": 5,
   "metadata": {},
   "outputs": [
    {
     "data": {
      "text/plain": [
       "array([0.        , 3.27399477, 4.17425964, 4.63470067, 4.9180534 ,\n",
       "       5.11663962, 5.27411589, 5.41634732, 5.56206566, 5.7270857 ,\n",
       "       5.92644178, 6.17542077, 6.49013905, 6.88773027, 7.38565903,\n",
       "       7.99989942])"
      ]
     },
     "execution_count": 5,
     "metadata": {},
     "output_type": "execute_result"
    }
   ],
   "source": [
    "#100HZ\n",
    "\n",
    "lti_gains2 = array([  4.97869378, -19.3046325 , -19.63106698, -21.21529962,\n",
    "       -23.48982791, -26.21776925, -29.27791662, -32.60000313,\n",
    "       -36.13959499, -39.86669103, -43.75995006, -47.80352329,\n",
    "       -51.98520518, -56.29529915, -60.72589282, -65.27037873])\n",
    "\n",
    "werner_gains2 = array([  4.94741288, -22.60990817, -23.83660752, -25.88128119,\n",
    "       -28.43916221, -31.36568977, -34.58331341, -38.04763135,\n",
    "       -41.73294155, -45.62505763, -49.71767274, -54.01022496,\n",
    "       -58.50662513, -63.21431032, -68.14283275, -73.30155905])\n",
    "\n",
    "lti_gains2 = lti_gains2 - lti_gains2[0]\n",
    "werner_gains2 = werner_gains2 - werner_gains2[0]\n",
    "\n",
    "diff_gains100 = lti_gains2 - werner_gains2\n",
    "\n",
    "diff_gains100"
   ]
  },
  {
   "cell_type": "code",
   "execution_count": 6,
   "metadata": {},
   "outputs": [
    {
     "data": {
      "text/plain": [
       "array([ 0.        ,  2.82251503,  3.83994803,  4.39361461,  4.83715961,\n",
       "        5.36145451,  6.14021646,  7.38208154,  9.31490191, 11.80328725,\n",
       "       12.35070582,  9.48163929,  6.84976368,  5.86332198,  7.29843451,\n",
       "       13.74619524])"
      ]
     },
     "execution_count": 6,
     "metadata": {},
     "output_type": "execute_result"
    }
   ],
   "source": [
    "#500Hz\n",
    "\n",
    "lti_gains3 = array([  4.74896979,  -7.5561037 ,  -8.92721489, -11.84895179,\n",
    "       -15.72080846, -20.27840302, -25.37518627, -30.91738227,\n",
    "       -36.83882142, -43.0894372 , -49.62934495, -56.42550683,\n",
    "       -63.44971553, -70.67730329, -78.08627518, -85.65670353])\n",
    "\n",
    "werner_gains3 = array([  4.40516723, -10.72242129, -13.11096548, -16.58636896,\n",
    "       -20.90177063, -25.98366009, -31.85920529, -38.64326637,\n",
    "       -46.49752589, -55.23652701, -62.32385333, -66.25094868,\n",
    "       -70.64328177, -76.88442783, -85.72851225, -99.74670133])\n",
    "\n",
    "lti_gains3 = lti_gains3 - lti_gains3[0]\n",
    "werner_gains3 = werner_gains3 - werner_gains3[0]\n",
    "\n",
    "\n",
    "diff_gains500 = lti_gains3 - werner_gains3\n",
    "\n",
    "diff_gains500"
   ]
  },
  {
   "cell_type": "code",
   "execution_count": 7,
   "metadata": {
    "scrolled": true
   },
   "outputs": [
    {
     "data": {
      "text/plain": [
       "array([ 0.        ,  2.27835382,  3.41780618,  4.15177131,  5.02994948,\n",
       "        6.53668744,  9.16145163, 11.66346588,  8.7486745 ,  5.48650985,\n",
       "        5.38225783, 13.02795737,  7.278225  , -0.78875177, -2.46854722,\n",
       "       -2.70422969])"
      ]
     },
     "execution_count": 7,
     "metadata": {},
     "output_type": "execute_result"
    }
   ],
   "source": [
    "#1000Hz\n",
    "\n",
    "lti_gains4 = array([   4.48379208,   -3.96571083,   -6.39356391,  -10.57986482,\n",
    "        -15.86144119,  -21.9266946 ,  -28.5896262 ,  -35.72194222,\n",
    "        -43.22630114,  -51.02377301,  -59.0471955 ,  -67.23732532,\n",
    "        -75.54046913,  -83.90698541,  -92.2904039 , -100.64713284])\n",
    "\n",
    "werner_gains4 = array([  3.79964875,  -6.92820798, -10.49551342, -15.41577946,\n",
    "       -21.575534  , -29.14752537, -38.43522116, -48.06955143,\n",
    "       -52.65911897, -57.19442619, -65.11359666, -80.94942602,\n",
    "       -83.50283746, -83.80237697, -90.50600001, -98.62704648])\n",
    "\n",
    "lti_gains4 = lti_gains4 - lti_gains4[0]\n",
    "werner_gains4 = werner_gains4 - werner_gains4[0]\n",
    "\n",
    "\n",
    "diff_gains1000 = lti_gains4 - werner_gains4\n",
    "\n",
    "diff_gains1000"
   ]
  }
 ],
 "metadata": {
  "kernelspec": {
   "display_name": "Python 3",
   "language": "python",
   "name": "python3"
  },
  "language_info": {
   "codemirror_mode": {
    "name": "ipython",
    "version": 3
   },
   "file_extension": ".py",
   "mimetype": "text/x-python",
   "name": "python",
   "nbconvert_exporter": "python",
   "pygments_lexer": "ipython3",
   "version": "3.7.5"
  }
 },
 "nbformat": 4,
 "nbformat_minor": 4
}
