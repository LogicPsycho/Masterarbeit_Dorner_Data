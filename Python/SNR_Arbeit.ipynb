{
 "cells": [
  {
   "cell_type": "markdown",
   "metadata": {},
   "source": [
    "# Signal to Noise Ratio (SNR)\n",
    "\n",
    "This Notebook is Copyright ©Patrik Lechner 2021 under Creative Commons, Attribution-ShareAlike 4.0 International. [![License: CC BY-SA 4.0](https://licensebuttons.net/l/by-sa/4.0/80x15.png)](https://creativecommons.org/licenses/by-sa/4.0/)\n",
    "\n",
    "This notebook documents how to calculate the Signal to Noise Ratio (SNR) for audio applications in python. This measure is used in many engineering disciplines. In audio applications, the desired signals mostly contain AC components that should not be confused with noise, making simple approaches focusing on DC signals not very useful. 4 Methods are shown here:\n",
    "- Method 1 assumes we can measure/record a noise only signal, emmitted by the system in question without an input signal.\n",
    "- Method 2 assumes we can measure an input signal and an output signal of a system. It is assumed that their difference is noise, which is not always the case, especially when we want to measure the SNR of a system that actually does something.\n",
    "- Method 3 uses the FFT to analyse for a fundamental frequency. It assumes that the input is a sinusoidal signal, the system adds noise and can contain weak non-linearities.\n",
    "- Methos 4 is here mostly for reference and is mostly suited for DC signals (not audio signals)\n",
    "\n",
    "\n",
    "## Basic Definition\n",
    "A discrete time signal, $x_s(n)$ exists. Through some process, noise $x_n(n)$ and harmonics of $x$ are added, resulting in a new signal, $y(n)$ that therefore contains noise and distortion.\n",
    "\n",
    "The main idea is to make a *ratio* between signal power to noise power. \n",
    "\n",
    "\n",
    "$$ SNR = \\frac{P_{signal}}{P_{noise}} $$\n",
    "\n",
    "So we need to measure the *power* $P(x)$ of a signal $x(n)$,  via:\n",
    "\n",
    "$$P(x)=1/N \\cdot \\displaystyle\\sum_{n=0}^{N-1}x(n)^2$$\n",
    "\n",
    "Which is simply taking the square of the signal and then the average.\n",
    "\n",
    "\n",
    "We can then calculate the $SNR$ via the power ratios:\n",
    "\n",
    "$$ SNR = \\frac{P_{signal}}{P_{noise}}$$\n",
    "\n",
    "Typically we want to have the values in dB. Since we have power signals alread we need to use \n",
    "\n",
    "$$P_{db} = 10 \\cdot log_{10} (P) $$\n",
    "\n",
    "So\n",
    "$$ SNR_{db} = 10 \\log_{10} \\frac{P_{signal}}{P_{noise}}$$\n",
    "\n",
    "This is it. Actually, we can also convert the power levels first to dB and then subtract (subtracting to logarithmic values is the same as dividing to linear ones):\n",
    "\n",
    "\n",
    "$$ \n",
    "10 \\log_{10} \\left ( \\frac{P_\\mathrm{signal}}{P_\\mathrm{noise}} \\right ) = 10 \\log_{10} \\left ( P_\\mathrm{signal} \\right ) - 10 \\log_{10} \\left ( P_\\mathrm{noise} \\right )\n",
    "$$\n",
    "\n",
    "\n",
    "## Measuring\n",
    "\n",
    "### Method 1\n",
    "Sometimes, the question arises how to get the noise and the Signal separately.\n",
    "One method is to measure the constant noise power a device *produces without an input*, let's call that $P_n$ and measure the power of the output of a device *with* an input, lets call that $P_s$. By subtraction of the powers, we can estimate the power of the signal alone and therefore the ratio between signal and noise power (assuming noise power stays constant).     \n",
    "\n",
    "$$ SNR_{db}=10 \\cdot \\log_{10} \\frac {P_s - P_n}{P_n}$$\n",
    "\n",
    "- $P(s)$ is a function that computes the power of a signal.\n",
    "- $P_s$ in this case is the power of the signal + the noise, typically the output of the system we want to measure **with** an input signal.\n",
    "- $P_n$ in this case is the power of just the noise, typically the output of the system we want to measure **without** an input signal.\n",
    "\n",
    "### Method 2\n",
    "Another method is to try to make the system as clean as possible (eg bypass or similar *at unity gain!*), measure input signal power $P_i$ and output signal power $P_o$ and just assume that the difference between them is the level of noise being added:\n",
    "$$ P_n = P_o - P_i $$\n",
    "The rest of the comutation stays the same as Method 1.\n",
    "\n",
    "\n",
    "### Method 3: Spectral\n",
    "The spectral method is modeled after the matlab function `snr`. The periodogram is calculated, the fundamental frequency is detected via the maximum, the harmonics are detected by looking for local maxima where harmonic peaks should be located (including aliased ones). These peaks are removed and the powers of the remaining signal (assumed to be the noise) is compared to the fundamental frequencie's power.\n",
    "\n",
    "### Method 4: Standard deviation \n",
    "This method can be found all over the internet but is not so interesting for Audio applications (AC signals). It is for instance used in an [old release of scipy](https://docs.scipy.org/doc/scipy-0.19.0/reference/generated/scipy.stats.signaltonoise.html).\n",
    "\n",
    "\n",
    "\n",
    "## refs:\n",
    "- https://en.wikipedia.org/wiki/Signal-to-noise_ratio\n",
    "- https://de.mathworks.com/help/signal/ref/snr.html\n",
    "- https://dsp.stackexchange.com/questions/17871/how-to-calculate-signal-to-noise-ratio\n",
    "- https://docs.scipy.org/doc/scipy-0.19.0/reference/generated/scipy.stats.signaltonoise.html\n",
    "- https://de.mathworks.com/help/signal/ref/bandpower.html\n",
    "- http://classes.engr.oregonstate.edu/eecs/spring2017/ece627/Lecture%20Notes/FFT%20for%20delta-sigma%20spectrum%20estimation.pdf\n",
    "- https://de.mathworks.com/help/signal/ref/snr.html\n",
    "- https://training.ti.com/sites/default/files/docs/TIPL%204703%20-%20Understanding%20Signal%20to%20Noise%20Ratio%20and%20Noise%20Spectral%20Density%20in%20High%20Speed%20Datat%20Converters_3.pdf\n",
    "- https://stackoverflow.com/questions/63177236/how-to-calculate-signal-to-noise-ratio-using-python\n",
    "- https://github.com/scipy/scipy/issues/9097\n",
    "- https://www.codespeedy.com/calculate-signal-to-noise-ratio-in-python/\n",
    "- https://biosignalsplux.com/learn/notebooks/Categories/Pre-Process/snr_slow_signals_rev.php"
   ]
  },
  {
   "cell_type": "markdown",
   "metadata": {},
   "source": [
    "# Setup"
   ]
  },
  {
   "cell_type": "code",
   "execution_count": 1,
   "metadata": {},
   "outputs": [
    {
     "name": "stdout",
     "output_type": "stream",
     "text": [
      "Populating the interactive namespace from numpy and matplotlib\n"
     ]
    }
   ],
   "source": [
    "%pylab inline"
   ]
  },
  {
   "cell_type": "code",
   "execution_count": 2,
   "metadata": {},
   "outputs": [],
   "source": [
    "# !pip install seaborn"
   ]
  },
  {
   "cell_type": "code",
   "execution_count": 3,
   "metadata": {},
   "outputs": [],
   "source": [
    "import seaborn as sn\n",
    "from scipy.stats import norm\n",
    "import scipy.signal as sig\n",
    "import copy"
   ]
  },
  {
   "cell_type": "code",
   "execution_count": 4,
   "metadata": {},
   "outputs": [],
   "source": [
    "sn.set()"
   ]
  },
  {
   "cell_type": "code",
   "execution_count": 5,
   "metadata": {},
   "outputs": [],
   "source": [
    "sr = 48000\n",
    "T = 10 #seconds\n",
    "N = int(T*sr)\n",
    "n = arange(N)\n",
    "t = n/sr\n",
    "\n",
    "silence = zeros(N)"
   ]
  },
  {
   "cell_type": "code",
   "execution_count": 6,
   "metadata": {},
   "outputs": [
    {
     "name": "stdout",
     "output_type": "stream",
     "text": [
      "SNR by definition, not computation: 16.989700043360187 dB\n"
     ]
    },
    {
     "data": {
      "image/png": "[encoded data removed]",
      "text/plain": [
       "<Figure size 432x288 with 1 Axes>"
      ]
     },
     "metadata": {},
     "output_type": "display_data"
    }
   ],
   "source": [
    "np.random.seed(1) #reproducability\n",
    "\n",
    "# matlab like randn function, for comparison reasons with matlab code. Only needed to create test signal.\n",
    "matlabRandn = lambda n:norm.ppf(np.random.rand(1,n)).flatten()\n",
    "\n",
    "A = 1.0\n",
    "a = 0.5\n",
    "s = 0.1\n",
    "powFund = A**2/2\n",
    "powHarm = a**2/2\n",
    "varnoise = s**2\n",
    "f0 = 1000#*(sr/2)\n",
    "h1 = f0*2.\n",
    "noiseOnly = s*matlabRandn(len(t))\n",
    "signalOnly = A * sin(pi*2*f0*t)\n",
    "harmonicsOnly = a*sin(pi*2*t*h1)\n",
    "y = signalOnly + harmonicsOnly + noiseOnly\n",
    "\n",
    "\n",
    "faxis,psX = sig.periodogram(signalOnly,fs=sr, window=('kaiser',38))\n",
    "faxis,psH = sig.periodogram(harmonicsOnly,fs=sr, window=('kaiser',38))\n",
    "\n",
    "defSNR = 10*log10(powFund/varnoise)\n",
    "print('SNR by definition, not computation: {} dB'.format(defSNR))\n",
    "\n",
    "faxis,ps = sig.periodogram(y,fs=sr, window=('kaiser',38))\n",
    "fundBin = argmax(ps) \n",
    "\n",
    "_=plot(faxis,10*log10(ps), label='$y(n)$, the test signal')\n",
    "_=plot(faxis,10*log10(psX),'--', label='$x(n)$, signal only', alpha=0.7)\n",
    "_=plot(faxis,10*log10(psH),'--', label='$h(n)$, harmonics only', alpha=0.7)\n",
    "title('Test Signal, SNR by definition: {} dB'.format(defSNR))\n",
    "ylim([-100,0])\n",
    "xlabel('Freq[Hz]')\n",
    "ylabel('power [dB]')\n",
    "legend()\n",
    "grid(True)"
   ]
  },
  {
   "cell_type": "markdown",
   "metadata": {},
   "source": [
    "# Method 3: Spectral\n",
    "\n",
    "- https://de.mathworks.com/help/signal/ref/bandpower.html\n",
    "- http://classes.engr.oregonstate.edu/eecs/spring2017/ece627/Lecture%20Notes/FFT%20for%20delta-sigma%20spectrum%20estimation.pdf\n",
    "- https://de.mathworks.com/help/signal/ref/snr.html\n",
    "- https://training.ti.com/sites/default/files/docs/TIPL%204703%20-%20Understanding%20Signal%20to%20Noise%20Ratio%20and%20Noise%20Spectral%20Density%20in%20High%20Speed%20Datat%20Converters_3.pdf"
   ]
  },
  {
   "cell_type": "code",
   "execution_count": 7,
   "metadata": {},
   "outputs": [],
   "source": [
    "def apA(x, M, g):\n",
    "    \n",
    "    y = zeros_like(x)\n",
    "    v = zeros_like(x)\n",
    "    w = zeros_like(x)\n",
    "    T1 = zeros_like(x)\n",
    "    T2 = zeros_like(x)\n",
    "\n",
    "    for n in range(N):\n",
    "        T1[n] = sqrt((1-g[n])/(1+g[n]))\n",
    "        T2[n] = sqrt((1+g[n])/(1-g[n]))\n",
    "\n",
    "        v[n] = x[n] - w[n-M]* T2[n]\n",
    "        w[n] = (x[n] + g[n] * v[n]) * T1[n]\n",
    "        y[n] = g[n] * v[n] + w[n-M]* T2[n]\n",
    "        \n",
    "    return y"
   ]
  },
  {
   "cell_type": "code",
   "execution_count": 8,
   "metadata": {},
   "outputs": [],
   "source": [
    "def apLTI(x, M, g):\n",
    "    \n",
    "    y = zeros_like(x)\n",
    "    v = zeros_like(x)\n",
    "\n",
    "    for n in range(N):\n",
    "        \n",
    "        v[n] = x[n] - g[n] * v[n-M]  \n",
    "        y[n] = v[n-M] + v[n] * g[n]\n",
    "        \n",
    "    return y"
   ]
  },
  {
   "cell_type": "code",
   "execution_count": 9,
   "metadata": {},
   "outputs": [],
   "source": [
    "def bandpower(ps, mode='psd'):\n",
    "    \"\"\"\n",
    "    estimate bandpower, see https://de.mathworks.com/help/signal/ref/bandpower.html\n",
    "    \"\"\"\n",
    "    if mode=='time':\n",
    "        x = ps\n",
    "        l2norm = linalg.norm(x)**2./len(x)\n",
    "        return l2norm\n",
    "    elif mode == 'psd':\n",
    "        return sum(ps)        "
   ]
  },
  {
   "cell_type": "code",
   "execution_count": 10,
   "metadata": {},
   "outputs": [],
   "source": [
    "def getIndizesAroundPeak(arr, peakIndex,searchWidth=1000):\n",
    "    peakBins = []\n",
    "    magMax = arr[peakIndex]\n",
    "    curVal = magMax\n",
    "    for i in range(searchWidth):\n",
    "        newBin = peakIndex+i\n",
    "        newVal = arr[newBin]\n",
    "        if newVal>curVal:\n",
    "            break\n",
    "        else:\n",
    "            peakBins.append(int(newBin))\n",
    "            curVal=newVal\n",
    "    curVal = magMax\n",
    "    for i in range(searchWidth):\n",
    "        newBin = peakIndex-i\n",
    "        newVal = arr[newBin]\n",
    "        if newVal>curVal:\n",
    "            break\n",
    "        else:\n",
    "            peakBins.append(int(newBin))\n",
    "            curVal=newVal\n",
    "    return array(list(set(peakBins)))\n",
    "\n"
   ]
  },
  {
   "cell_type": "code",
   "execution_count": 11,
   "metadata": {},
   "outputs": [],
   "source": [
    "def freqToBin(fAxis, Freq):\n",
    "    return argmin(abs(fAxis-Freq))\n",
    "\n",
    "def getPeakInArea(psd, faxis, estimation, searchWidthHz = 10):\n",
    "    \"\"\"\n",
    "    returns bin and frequency of the maximum in an area\n",
    "    \"\"\"\n",
    "    binLow = freqToBin(faxis, estimation-searchWidthHz)\n",
    "    binHi = freqToBin(faxis, estimation+searchWidthHz)\n",
    "    peakbin = binLow+argmax(psd[binLow:binHi])\n",
    "    return peakbin, faxis[peakbin]\n",
    "\n",
    "def getHarmonics(fund,sr,nHarmonics=6,aliased=False):\n",
    "    harmonicMultipliers = arange(2,nHarmonics+2)\n",
    "    harmonicFs = fundFrequency*harmonicMultipliers\n",
    "    if not aliased:\n",
    "        harmonicFs[harmonicFs>sr/2] = -1\n",
    "        harmonicFs = np.delete(harmonicFs,harmonicFs==-1)\n",
    "    else:\n",
    "        nyqZone = floor(harmonicFs/(sr/2))\n",
    "        oddEvenNyq = nyqZone%2  \n",
    "        harmonicFs = mod(harmonicFs,sr/2)\n",
    "        harmonicFs[oddEvenNyq==1] = (sr/2)-harmonicFs[oddEvenNyq==1]\n",
    "    return harmonicFs   "
   ]
  },
  {
   "cell_type": "code",
   "execution_count": 12,
   "metadata": {},
   "outputs": [],
   "source": [
    "f0 = 50\n",
    "signalOnly = A * sin(pi*2*f0*t)\n",
    "\n",
    "g = zeros_like(signalOnly)\n",
    "g = signalOnly * 0.9\n",
    "\n",
    "\n",
    "y = apLTI(signalOnly, 1, g)"
   ]
  },
  {
   "cell_type": "code",
   "execution_count": 13,
   "metadata": {},
   "outputs": [],
   "source": [
    "faxis,ps = sig.periodogram(y,fs=sr, window=('kaiser',38)) #get periodogram, parametrized like in matlab\n",
    "fundBin = argmax(ps) #estimate fundamental at maximum amplitude, get the bin number\n",
    "fundIndizes = getIndizesAroundPeak(ps,fundBin) #get bin numbers around fundamental peak\n",
    "fundFrequency = faxis[fundBin] #frequency of fundamental"
   ]
  },
  {
   "cell_type": "code",
   "execution_count": 14,
   "metadata": {},
   "outputs": [
    {
     "name": "stdout",
     "output_type": "stream",
     "text": [
      "harmonic frequencies estimated: [100. 150. 200. 250. 300. 350. 400. 450. 500. 550. 600. 650. 700. 750.\n",
      " 800.]\n"
     ]
    }
   ],
   "source": [
    "nHarmonics = 15\n",
    "harmonicFs = getHarmonics(fundFrequency,sr,nHarmonics=nHarmonics,aliased=True) #get harmonic frequencies\n",
    "print('harmonic frequencies estimated: {}'.format(harmonicFs))"
   ]
  },
  {
   "cell_type": "markdown",
   "metadata": {},
   "source": [
    "## Search maxima near estimated harmonic frequencies"
   ]
  },
  {
   "cell_type": "code",
   "execution_count": 15,
   "metadata": {},
   "outputs": [
    {
     "name": "stdout",
     "output_type": "stream",
     "text": [
      "100.0\n",
      "150.0\n",
      "200.0\n",
      "250.0\n",
      "300.0\n",
      "350.0\n",
      "400.0\n",
      "450.0\n",
      "500.0\n",
      "550.0\n",
      "600.0\n",
      "650.0\n",
      "700.0\n",
      "750.0\n",
      "800.0\n"
     ]
    }
   ],
   "source": [
    "harmonicBorders = zeros([2,nHarmonics],dtype=int16).T\n",
    "fullHarmonicBins = np.array([], dtype=int16)\n",
    "fullHarmonicBinList = []\n",
    "harmPeakFreqs=[]\n",
    "harmPeaks=[]\n",
    "for i,harmonic in enumerate(harmonicFs):\n",
    "    searcharea = 0.1*fundFrequency\n",
    "    estimation = harmonic\n",
    "    \n",
    "    binNum, freq = getPeakInArea(ps,faxis,estimation,searcharea)\n",
    "    harmPeakFreqs.append(freq)\n",
    "    harmPeaks.append(ps[binNum])\n",
    "    allBins = getIndizesAroundPeak(ps, binNum,searchWidth=1000)\n",
    "    fullHarmonicBins=np.append(fullHarmonicBins,allBins)\n",
    "    fullHarmonicBinList.append(allBins)\n",
    "    harmonicBorders[i,:] = [allBins[0], allBins[-1]]\n",
    "    print(freq)"
   ]
  },
  {
   "cell_type": "code",
   "execution_count": 16,
   "metadata": {},
   "outputs": [],
   "source": [
    "fundIndizes.sort()\n",
    "pFund = bandpower(ps[fundIndizes[0]:fundIndizes[-1]]) #get power of fundamental \n",
    "fundRemoved = np.delete(ps,fundIndizes) #remove the fundamental (start constructing the noise-only signal)\n",
    "fAxisFundRemoved = np.delete(faxis,fundIndizes)"
   ]
  },
  {
   "cell_type": "code",
   "execution_count": 17,
   "metadata": {},
   "outputs": [],
   "source": [
    "def plotSNR(ps, faxis, fundIndizes, fullHarmonicBinList, harmPeaks, harmPeakFreqs, ):\n",
    "    \n",
    "    fig, ax = plt.subplots()\n",
    "    \n",
    "    arrowprops = dict(\n",
    "        arrowstyle=\"->\",\n",
    "        connectionstyle=\"angle,angleA=0,angleB=90,rad=10\")\n",
    "    bbox = dict(boxstyle=\"round\", fc=\"0.8\")\n",
    "    offset = 10\n",
    "\n",
    "    plt.xscale('log')\n",
    "    from matplotlib.ticker import ScalarFormatter\n",
    "    for axis in [ax.xaxis, ax.yaxis]:\n",
    "        axis.set_major_formatter(ScalarFormatter())\n",
    "    plot(faxis,10*log10(ps), c='r')\n",
    "    plot(faxis[fundIndizes], 10*log10(ps[fundIndizes]), c='b', label='$f_0$')\n",
    "    for i,harm in enumerate(fullHarmonicBinList):\n",
    "        plot(faxis[harm], 10*log10(ps[harm]),'k')\n",
    "\n",
    "        ax.annotate(\"f{}\".format(i+1),\n",
    "        (harmPeakFreqs[i], 10*log10(harmPeaks[i])),\n",
    "        xytext=(0, 30), textcoords='offset points',\n",
    "        bbox=bbox, arrowprops=arrowprops)\n",
    "\n",
    "    legend()\n",
    "    return"
   ]
  },
  {
   "cell_type": "code",
   "execution_count": 18,
   "metadata": {
    "scrolled": false
   },
   "outputs": [
    {
     "data": {
      "text/plain": [
       "Text(0, 0.5, '$Magnitude (dB)$')"
      ]
     },
     "execution_count": 18,
     "metadata": {},
     "output_type": "execute_result"
    },
    {
     "data": {
      "image/png": "[encoded data removed]",
      "text/plain": [
       "<Figure size 432x288 with 1 Axes>"
      ]
     },
     "metadata": {},
     "output_type": "display_data"
    }
   ],
   "source": [
    "plotSNR(ps,faxis, fundIndizes,fullHarmonicBinList,harmPeaks,harmPeakFreqs)\n",
    "ylim([-120, 10])\n",
    "xlim([20, 5000])\n",
    "plt.xlabel('$Frequency (Hz)$')\n",
    "plt.ylabel('$Magnitude (dB)$')"
   ]
  },
  {
   "cell_type": "code",
   "execution_count": 19,
   "metadata": {},
   "outputs": [],
   "source": [
    "noisePrepared = copy.copy(ps)\n",
    "noisePrepared[fundIndizes] = 0\n",
    "noisePrepared[fullHarmonicBins] = 0\n",
    "noiseMean = median(noisePrepared[noisePrepared!=0])\n",
    "noisePrepared[fundIndizes] = noiseMean \n",
    "noisePrepared[fullHarmonicBins] = noiseMean"
   ]
  },
  {
   "cell_type": "code",
   "execution_count": 20,
   "metadata": {},
   "outputs": [],
   "source": [
    "noisePower = bandpower(noisePrepared)"
   ]
  },
  {
   "cell_type": "code",
   "execution_count": 21,
   "metadata": {},
   "outputs": [],
   "source": [
    "r = 10*log10(pFund/noisePower)"
   ]
  },
  {
   "cell_type": "code",
   "execution_count": 22,
   "metadata": {
    "scrolled": false
   },
   "outputs": [
    {
     "name": "stdout",
     "output_type": "stream",
     "text": [
      "SNR by definition, not computation: 16.989700043360187 dB\n",
      "measured SNR: 69.25747055346174 dB\n",
      "Noise Power: -62.27278467522679 dB\n"
     ]
    }
   ],
   "source": [
    "print('SNR by definition, not computation: {} dB'.format(defSNR))\n",
    "print('measured SNR: {} dB'.format(r))\n",
    "print('Noise Power: {} dB'.format(10*log10(noisePower)))"
   ]
  },
  {
   "cell_type": "markdown",
   "metadata": {},
   "source": [
    "## Show Frequencies, Fundamental dB and harmonics (calculated to dB)"
   ]
  },
  {
   "cell_type": "code",
   "execution_count": 23,
   "metadata": {},
   "outputs": [
    {
     "name": "stdout",
     "output_type": "stream",
     "text": [
      "f0:    50.0   Hz        4.994231 dB\n",
      "f1:    100.0  Hz      -25.142174 dB\n",
      "f2:    150.0  Hz      -25.371206 dB\n",
      "f3:    200.0  Hz      -26.819571 dB\n",
      "f4:    250.0  Hz      -28.917445 dB\n",
      "f5:    300.0  Hz      -31.426040 dB\n",
      "f6:    350.0  Hz      -34.222928 dB\n",
      "f7:    400.0  Hz      -37.237253 dB\n",
      "f8:    450.0  Hz      -40.424510 dB\n",
      "f9:    500.0  Hz      -43.755039 dB\n",
      "f10:   550.0  Hz      -47.208151 dB\n",
      "f11:   600.0  Hz      -50.768881 dB\n",
      "f12:   650.0  Hz      -54.426077 dB\n",
      "f13:   700.0  Hz      -58.171207 dB\n",
      "f14:   750.0  Hz      -61.997600 dB\n",
      "f15:   800.0  Hz      -65.899933 dB\n"
     ]
    }
   ],
   "source": [
    "print(\"%-6s %-6s %-9s %-8f %s\" %(\"f{}:\".format(0),fundFrequency, 'Hz',pFund, 'dB'))\n",
    "for n in range(shape(harmPeaks)[0]):\n",
    "    print(\"%-6s %-6s %-7s %-8f %s\" %(\"f{}:\".format(n+1),harmPeakFreqs[n], 'Hz',10*log10(harmPeaks[n]), 'dB'))"
   ]
  }
 ],
 "metadata": {
  "kernelspec": {
   "display_name": "Python 3",
   "language": "python",
   "name": "python3"
  },
  "language_info": {
   "codemirror_mode": {
    "name": "ipython",
    "version": 3
   },
   "file_extension": ".py",
   "mimetype": "text/x-python",
   "name": "python",
   "nbconvert_exporter": "python",
   "pygments_lexer": "ipython3",
   "version": "3.7.5"
  }
 },
 "nbformat": 4,
 "nbformat_minor": 5
}
